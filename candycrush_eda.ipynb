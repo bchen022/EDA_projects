{
 "cells": [
  {
   "cell_type": "markdown",
   "metadata": {},
   "source": [
    "## Candy Crush Exploratory Data Analysis\n",
    "#### Candy Crush is a free-to-play puzzle game released by King in 2012. \n",
    "#### The goal of the game is to match similar candy together to clear the level and progress to the next one. \n",
    "#### Candy Crush has more than 3000 levels, and new ones are added every week. \n",
    "\n",
    "#### In this project, we will see how we can use data collected from players to estimate level difficulty. \n",
    "#### Let's start by loading in the packages we're going to need."
   ]
  },
  {
   "cell_type": "code",
   "execution_count": 35,
   "metadata": {},
   "outputs": [],
   "source": [
    "# import libraries \n",
    "import pandas as pd\n",
    "import matplotlib.pyplot as plt\n",
    "import numpy as np\n",
    "import seaborn as sns\n",
    "from matplotlib.pyplot import Figure\n"
   ]
  },
  {
   "cell_type": "code",
   "execution_count": 36,
   "metadata": {},
   "outputs": [],
   "source": [
    "data = pd.read_csv(r\"C:\\Users\\b5-chen\\Python projects\\candy_crush_EDA\\candy_crush.csv\")"
   ]
  },
  {
   "cell_type": "code",
   "execution_count": 37,
   "metadata": {},
   "outputs": [],
   "source": [
    "df = pd.DataFrame(data)"
   ]
  },
  {
   "cell_type": "code",
   "execution_count": 38,
   "metadata": {},
   "outputs": [
    {
     "data": {
      "text/plain": [
       "player_id       object\n",
       "dt              object\n",
       "level            int64\n",
       "num_attempts     int64\n",
       "num_success      int64\n",
       "dtype: object"
      ]
     },
     "execution_count": 38,
     "metadata": {},
     "output_type": "execute_result"
    }
   ],
   "source": [
    "df.dtypes"
   ]
  },
  {
   "cell_type": "code",
   "execution_count": 39,
   "metadata": {},
   "outputs": [],
   "source": [
    "# convert data type of date column to datetime\n",
    "df['dt'] = pd.to_datetime(df['dt'])"
   ]
  },
  {
   "cell_type": "code",
   "execution_count": 40,
   "metadata": {},
   "outputs": [
    {
     "name": "stdout",
     "output_type": "stream",
     "text": [
      "<class 'pandas.core.frame.DataFrame'>\n",
      "RangeIndex: 16865 entries, 0 to 16864\n",
      "Data columns (total 5 columns):\n",
      " #   Column        Non-Null Count  Dtype         \n",
      "---  ------        --------------  -----         \n",
      " 0   player_id     16865 non-null  object        \n",
      " 1   dt            16865 non-null  datetime64[ns]\n",
      " 2   level         16865 non-null  int64         \n",
      " 3   num_attempts  16865 non-null  int64         \n",
      " 4   num_success   16865 non-null  int64         \n",
      "dtypes: datetime64[ns](1), int64(3), object(1)\n",
      "memory usage: 658.9+ KB\n"
     ]
    }
   ],
   "source": [
    "df.info()"
   ]
  },
  {
   "cell_type": "markdown",
   "metadata": {},
   "source": [
    "## Checking the data set \n",
    "### Now that we have loaded the data set we can check the total number of players in the dataset."
   ]
  },
  {
   "cell_type": "code",
   "execution_count": 41,
   "metadata": {},
   "outputs": [
    {
     "name": "stdout",
     "output_type": "stream",
     "text": [
      "Number of players: 6814\n"
     ]
    }
   ],
   "source": [
    "num_players = df['player_id'].nunique()\n",
    "print(\"Number of players: {}\".format(num_players))"
   ]
  },
  {
   "cell_type": "code",
   "execution_count": 42,
   "metadata": {},
   "outputs": [
    {
     "name": "stdout",
     "output_type": "stream",
     "text": [
      "Time period for which we have the data: 6 days 00:00:00\n"
     ]
    }
   ],
   "source": [
    "time_period = df['dt'].max() - df['dt'].min()\n",
    "print(\"Time period for which we have the data: {}\".format(time_period))"
   ]
  },
  {
   "cell_type": "markdown",
   "metadata": {},
   "source": [
    "## Computing the difficulty level\n",
    "#### We will determine the difficulty of each level. \n",
    "#### We assume the difficult levels require more attempts on average than the easier ones, thus the harder the level is, the lower the probability to pass that level in a single attempt.\n",
    "#### This can be calculated for each level by: difficulty = Number of wins / Total num of attempts "
   ]
  },
  {
   "cell_type": "markdown",
   "metadata": {},
   "source": [
    "#### Calculating the standard error."
   ]
  },
  {
   "cell_type": "code",
   "execution_count": 51,
   "metadata": {},
   "outputs": [
    {
     "data": {
      "text/plain": [
       "9.447140934486065e-12"
      ]
     },
     "execution_count": 51,
     "metadata": {},
     "output_type": "execute_result"
    }
   ],
   "source": [
    "p = np.prod(final.win_rate)\n",
    "p"
   ]
  },
  {
   "cell_type": "markdown",
   "metadata": {},
   "source": [
    "#### Given the probability calculated, it is very unlikely for a player to complete the episode in one attempt."
   ]
  },
  {
   "cell_type": "markdown",
   "metadata": {},
   "source": [
    "### Number of levels played per player"
   ]
  },
  {
   "cell_type": "code",
   "execution_count": 52,
   "metadata": {},
   "outputs": [
    {
     "data": {
      "text/plain": [
       "Text(0.5, 0, '# levels played by a player')"
      ]
     },
     "execution_count": 52,
     "metadata": {},
     "output_type": "execute_result"
    },
    {
     "data": {
      "image/png": "[encoded data removed]",
      "text/plain": [
       "<Figure size 432x288 with 1 Axes>"
      ]
     },
     "metadata": {
      "needs_background": "light"
     },
     "output_type": "display_data"
    }
   ],
   "source": [
    "player_df = df[['player_id','level']].groupby(df['player_id']).count()\n",
    "player_df.rename({'level':'num_level_played'}, inplace=True, axis=1)\n",
    "sns.histplot(player_df)\n",
    "plt.title('Distribution of the number of levels played by a player')\n",
    "plt.xlabel(\"# levels played by a player\")\n"
   ]
  },
  {
   "cell_type": "markdown",
   "metadata": {},
   "source": [
    "### How many players played given levels "
   ]
  },
  {
   "cell_type": "code",
   "execution_count": 53,
   "metadata": {},
   "outputs": [
    {
     "data": {
      "text/plain": [
       "Text(0, 0.5, 'Number of players')"
      ]
     },
     "execution_count": 53,
     "metadata": {},
     "output_type": "execute_result"
    },
    {
     "data": {
      "image/png": "[encoded data removed]",
      "text/plain": [
       "<Figure size 432x288 with 1 Axes>"
      ]
     },
     "metadata": {
      "needs_background": "light"
     },
     "output_type": "display_data"
    }
   ],
   "source": [
    "num_player_per_level = df[['level','player_id']].groupby('level').count()\n",
    "sns.barplot(data=num_player_per_level, x=num_player_per_level.index, y='player_id')\n",
    "plt.ylabel('Number of players')"
   ]
  },
  {
   "cell_type": "code",
   "execution_count": 54,
   "metadata": {},
   "outputs": [
    {
     "data": {
      "text/html": [
       "<div>\n",
       "<style scoped>\n",
       "    .dataframe tbody tr th:only-of-type {\n",
       "        vertical-align: middle;\n",
       "    }\n",
       "\n",
       "    .dataframe tbody tr th {\n",
       "        vertical-align: top;\n",
       "    }\n",
       "\n",
       "    .dataframe thead th {\n",
       "        text-align: right;\n",
       "    }\n",
       "</style>\n",
       "<table border=\"1\" class=\"dataframe\">\n",
       "  <thead>\n",
       "    <tr style=\"text-align: right;\">\n",
       "      <th></th>\n",
       "      <th>num_attempts</th>\n",
       "      <th>num_success</th>\n",
       "    </tr>\n",
       "    <tr>\n",
       "      <th>level</th>\n",
       "      <th></th>\n",
       "      <th></th>\n",
       "    </tr>\n",
       "  </thead>\n",
       "  <tbody>\n",
       "    <tr>\n",
       "      <th>1</th>\n",
       "      <td>1322</td>\n",
       "      <td>818</td>\n",
       "    </tr>\n",
       "    <tr>\n",
       "      <th>2</th>\n",
       "      <td>1285</td>\n",
       "      <td>666</td>\n",
       "    </tr>\n",
       "    <tr>\n",
       "      <th>3</th>\n",
       "      <td>1546</td>\n",
       "      <td>662</td>\n",
       "    </tr>\n",
       "    <tr>\n",
       "      <th>4</th>\n",
       "      <td>1893</td>\n",
       "      <td>705</td>\n",
       "    </tr>\n",
       "    <tr>\n",
       "      <th>5</th>\n",
       "      <td>6937</td>\n",
       "      <td>634</td>\n",
       "    </tr>\n",
       "  </tbody>\n",
       "</table>\n",
       "</div>"
      ],
      "text/plain": [
       "       num_attempts  num_success\n",
       "level                           \n",
       "1              1322          818\n",
       "2              1285          666\n",
       "3              1546          662\n",
       "4              1893          705\n",
       "5              6937          634"
      ]
     },
     "execution_count": 54,
     "metadata": {},
     "output_type": "execute_result"
    }
   ],
   "source": [
    "level_df = df[['level', 'num_attempts','num_success']].groupby('level').sum()\n",
    "level_df.head()"
   ]
  },
  {
   "cell_type": "markdown",
   "metadata": {},
   "source": [
    "#### Winning players for each level"
   ]
  },
  {
   "cell_type": "code",
   "execution_count": 55,
   "metadata": {},
   "outputs": [],
   "source": [
    "winners = df[['level','num_success']].groupby('level').apply(lambda x:(x>0).sum())\n",
    "level_df['num_winners'] = winners['num_success']"
   ]
  },
  {
   "cell_type": "markdown",
   "metadata": {},
   "source": [
    "#### Number of player with no successes for each level"
   ]
  },
  {
   "cell_type": "code",
   "execution_count": 56,
   "metadata": {},
   "outputs": [],
   "source": [
    "losers = df[['level','num_success']].groupby('level').apply(lambda x:(x==0).sum())\n",
    "level_df['num_losers'] = losers['num_success']"
   ]
  },
  {
   "cell_type": "code",
   "execution_count": 57,
   "metadata": {},
   "outputs": [],
   "source": [
    "#total number of players\n",
    "level_df['num_players'] = level_df['num_winners']+level_df['num_losers']"
   ]
  },
  {
   "cell_type": "code",
   "execution_count": 58,
   "metadata": {},
   "outputs": [],
   "source": [
    "# Average number of attempts to win a level: # attempts/ # success\n",
    "level_df['attempts_success_ratio'] = level_df['num_attempts']/level_df['num_success'] "
   ]
  },
  {
   "cell_type": "code",
   "execution_count": null,
   "metadata": {},
   "outputs": [],
   "source": [
    "# win rate for each level\n",
    "win_rate = df.groupby(['level'])[['num_attempts','num_success']].agg('sum')\n",
    "level_df['win_rate'] = (win_rate.num_success) / (win_rate.num_attempts) "
   ]
  },
  {
   "cell_type": "code",
   "execution_count": 59,
   "metadata": {},
   "outputs": [],
   "source": [
    "# player_win_lose_ratio: # winning players/ total # players\n",
    "level_df['player_win_lose_ratio'] = level_df['num_winners']/level_df['num_players']"
   ]
  },
  {
   "cell_type": "code",
   "execution_count": 72,
   "metadata": {},
   "outputs": [
    {
     "data": {
      "text/html": [
       "<div>\n",
       "<style scoped>\n",
       "    .dataframe tbody tr th:only-of-type {\n",
       "        vertical-align: middle;\n",
       "    }\n",
       "\n",
       "    .dataframe tbody tr th {\n",
       "        vertical-align: top;\n",
       "    }\n",
       "\n",
       "    .dataframe thead th {\n",
       "        text-align: right;\n",
       "    }\n",
       "</style>\n",
       "<table border=\"1\" class=\"dataframe\">\n",
       "  <thead>\n",
       "    <tr style=\"text-align: right;\">\n",
       "      <th></th>\n",
       "      <th>num_attempts</th>\n",
       "      <th>num_success</th>\n",
       "      <th>num_winners</th>\n",
       "      <th>num_losers</th>\n",
       "      <th>num_players</th>\n",
       "      <th>attempts_success_ratio</th>\n",
       "      <th>player_win_lose_ratio</th>\n",
       "      <th>win_rate</th>\n",
       "    </tr>\n",
       "    <tr>\n",
       "      <th>level</th>\n",
       "      <th></th>\n",
       "      <th></th>\n",
       "      <th></th>\n",
       "      <th></th>\n",
       "      <th></th>\n",
       "      <th></th>\n",
       "      <th></th>\n",
       "      <th></th>\n",
       "    </tr>\n",
       "  </thead>\n",
       "  <tbody>\n",
       "    <tr>\n",
       "      <th>1</th>\n",
       "      <td>1322</td>\n",
       "      <td>818</td>\n",
       "      <td>641</td>\n",
       "      <td>37</td>\n",
       "      <td>678</td>\n",
       "      <td>1.616137</td>\n",
       "      <td>0.945428</td>\n",
       "      <td>0.618759</td>\n",
       "    </tr>\n",
       "    <tr>\n",
       "      <th>2</th>\n",
       "      <td>1285</td>\n",
       "      <td>666</td>\n",
       "      <td>631</td>\n",
       "      <td>50</td>\n",
       "      <td>681</td>\n",
       "      <td>1.929429</td>\n",
       "      <td>0.926579</td>\n",
       "      <td>0.518288</td>\n",
       "    </tr>\n",
       "    <tr>\n",
       "      <th>3</th>\n",
       "      <td>1546</td>\n",
       "      <td>662</td>\n",
       "      <td>620</td>\n",
       "      <td>56</td>\n",
       "      <td>676</td>\n",
       "      <td>2.335347</td>\n",
       "      <td>0.917160</td>\n",
       "      <td>0.428202</td>\n",
       "    </tr>\n",
       "    <tr>\n",
       "      <th>4</th>\n",
       "      <td>1893</td>\n",
       "      <td>705</td>\n",
       "      <td>646</td>\n",
       "      <td>61</td>\n",
       "      <td>707</td>\n",
       "      <td>2.685106</td>\n",
       "      <td>0.913720</td>\n",
       "      <td>0.372425</td>\n",
       "    </tr>\n",
       "    <tr>\n",
       "      <th>5</th>\n",
       "      <td>6937</td>\n",
       "      <td>634</td>\n",
       "      <td>596</td>\n",
       "      <td>635</td>\n",
       "      <td>1231</td>\n",
       "      <td>10.941640</td>\n",
       "      <td>0.484159</td>\n",
       "      <td>0.091394</td>\n",
       "    </tr>\n",
       "    <tr>\n",
       "      <th>6</th>\n",
       "      <td>1591</td>\n",
       "      <td>668</td>\n",
       "      <td>601</td>\n",
       "      <td>73</td>\n",
       "      <td>674</td>\n",
       "      <td>2.381737</td>\n",
       "      <td>0.891691</td>\n",
       "      <td>0.419862</td>\n",
       "    </tr>\n",
       "    <tr>\n",
       "      <th>7</th>\n",
       "      <td>4526</td>\n",
       "      <td>614</td>\n",
       "      <td>574</td>\n",
       "      <td>432</td>\n",
       "      <td>1006</td>\n",
       "      <td>7.371336</td>\n",
       "      <td>0.570577</td>\n",
       "      <td>0.135661</td>\n",
       "    </tr>\n",
       "    <tr>\n",
       "      <th>8</th>\n",
       "      <td>15816</td>\n",
       "      <td>641</td>\n",
       "      <td>609</td>\n",
       "      <td>1401</td>\n",
       "      <td>2010</td>\n",
       "      <td>24.673947</td>\n",
       "      <td>0.302985</td>\n",
       "      <td>0.040529</td>\n",
       "    </tr>\n",
       "    <tr>\n",
       "      <th>9</th>\n",
       "      <td>8241</td>\n",
       "      <td>670</td>\n",
       "      <td>629</td>\n",
       "      <td>613</td>\n",
       "      <td>1242</td>\n",
       "      <td>12.300000</td>\n",
       "      <td>0.506441</td>\n",
       "      <td>0.081301</td>\n",
       "    </tr>\n",
       "    <tr>\n",
       "      <th>10</th>\n",
       "      <td>3282</td>\n",
       "      <td>617</td>\n",
       "      <td>585</td>\n",
       "      <td>308</td>\n",
       "      <td>893</td>\n",
       "      <td>5.319287</td>\n",
       "      <td>0.655095</td>\n",
       "      <td>0.187995</td>\n",
       "    </tr>\n",
       "    <tr>\n",
       "      <th>11</th>\n",
       "      <td>5575</td>\n",
       "      <td>603</td>\n",
       "      <td>581</td>\n",
       "      <td>436</td>\n",
       "      <td>1017</td>\n",
       "      <td>9.245439</td>\n",
       "      <td>0.571288</td>\n",
       "      <td>0.108161</td>\n",
       "    </tr>\n",
       "    <tr>\n",
       "      <th>12</th>\n",
       "      <td>6868</td>\n",
       "      <td>659</td>\n",
       "      <td>636</td>\n",
       "      <td>497</td>\n",
       "      <td>1133</td>\n",
       "      <td>10.421851</td>\n",
       "      <td>0.561342</td>\n",
       "      <td>0.095952</td>\n",
       "    </tr>\n",
       "    <tr>\n",
       "      <th>13</th>\n",
       "      <td>1327</td>\n",
       "      <td>686</td>\n",
       "      <td>636</td>\n",
       "      <td>54</td>\n",
       "      <td>690</td>\n",
       "      <td>1.934402</td>\n",
       "      <td>0.921739</td>\n",
       "      <td>0.516956</td>\n",
       "    </tr>\n",
       "    <tr>\n",
       "      <th>14</th>\n",
       "      <td>2772</td>\n",
       "      <td>777</td>\n",
       "      <td>653</td>\n",
       "      <td>201</td>\n",
       "      <td>854</td>\n",
       "      <td>3.567568</td>\n",
       "      <td>0.764637</td>\n",
       "      <td>0.280303</td>\n",
       "    </tr>\n",
       "    <tr>\n",
       "      <th>15</th>\n",
       "      <td>30374</td>\n",
       "      <td>1157</td>\n",
       "      <td>1120</td>\n",
       "      <td>2253</td>\n",
       "      <td>3373</td>\n",
       "      <td>26.252377</td>\n",
       "      <td>0.332049</td>\n",
       "      <td>0.038092</td>\n",
       "    </tr>\n",
       "  </tbody>\n",
       "</table>\n",
       "</div>"
      ],
      "text/plain": [
       "       num_attempts  num_success  num_winners  num_losers  num_players  \\\n",
       "level                                                                    \n",
       "1              1322          818          641          37          678   \n",
       "2              1285          666          631          50          681   \n",
       "3              1546          662          620          56          676   \n",
       "4              1893          705          646          61          707   \n",
       "5              6937          634          596         635         1231   \n",
       "6              1591          668          601          73          674   \n",
       "7              4526          614          574         432         1006   \n",
       "8             15816          641          609        1401         2010   \n",
       "9              8241          670          629         613         1242   \n",
       "10             3282          617          585         308          893   \n",
       "11             5575          603          581         436         1017   \n",
       "12             6868          659          636         497         1133   \n",
       "13             1327          686          636          54          690   \n",
       "14             2772          777          653         201          854   \n",
       "15            30374         1157         1120        2253         3373   \n",
       "\n",
       "       attempts_success_ratio  player_win_lose_ratio  win_rate  \n",
       "level                                                           \n",
       "1                    1.616137               0.945428  0.618759  \n",
       "2                    1.929429               0.926579  0.518288  \n",
       "3                    2.335347               0.917160  0.428202  \n",
       "4                    2.685106               0.913720  0.372425  \n",
       "5                   10.941640               0.484159  0.091394  \n",
       "6                    2.381737               0.891691  0.419862  \n",
       "7                    7.371336               0.570577  0.135661  \n",
       "8                   24.673947               0.302985  0.040529  \n",
       "9                   12.300000               0.506441  0.081301  \n",
       "10                   5.319287               0.655095  0.187995  \n",
       "11                   9.245439               0.571288  0.108161  \n",
       "12                  10.421851               0.561342  0.095952  \n",
       "13                   1.934402               0.921739  0.516956  \n",
       "14                   3.567568               0.764637  0.280303  \n",
       "15                  26.252377               0.332049  0.038092  "
      ]
     },
     "execution_count": 72,
     "metadata": {},
     "output_type": "execute_result"
    }
   ],
   "source": [
    "level_df\n"
   ]
  },
  {
   "cell_type": "code",
   "execution_count": 71,
   "metadata": {},
   "outputs": [
    {
     "data": {
      "text/plain": [
       "Text(0.5, 1.0, 'Winning players / total players')"
      ]
     },
     "execution_count": 71,
     "metadata": {},
     "output_type": "execute_result"
    },
    {
     "data": {
      "image/png": "[encoded data removed]",
      "text/plain": [
       "<Figure size 576x936 with 5 Axes>"
      ]
     },
     "metadata": {
      "needs_background": "light"
     },
     "output_type": "display_data"
    }
   ],
   "source": [
    "fig, ax = plt.subplots(5,1, figsize=(8,13), gridspec_kw={'hspace':.8})\n",
    "\n",
    "plt.sca(ax[0])\n",
    "sns.barplot(data=level_df, x=level_df.index, y='num_success')\n",
    "plt.title(\"Total num success for each level\")\n",
    "plt.xlabel('')\n",
    "\n",
    "plt.sca(ax[1])\n",
    "sns.barplot(data=level_df, x=level_df.index, y='num_attempts')\n",
    "plt.title(\"Total num attempts for each level\")\n",
    "plt.xlabel('')\n",
    "\n",
    "plt.sca(ax[2])\n",
    "sns.barplot(data=level_df, x=level_df.index, y='attempts_success_ratio')\n",
    "plt.title(\"Average number of attempts to win a level\")\n",
    "plt.xlabel('')\n",
    "\n",
    "plt.sca(ax[3])\n",
    "sns.barplot(data=level_df, x=level_df.index, y='win_rate')\n",
    "plt.title(\"Win rate for each level\")\n",
    "plt.xlabel('')\n",
    "\n",
    "plt.sca(ax[4])\n",
    "sns.barplot(data=level_df, x=level_df.index, y='player_win_lose_ratio')\n",
    "plt.title(\"Winning players / total players\")"
   ]
  },
  {
   "cell_type": "code",
   "execution_count": 73,
   "metadata": {},
   "outputs": [
    {
     "data": {
      "text/html": [
       "<div>\n",
       "<style scoped>\n",
       "    .dataframe tbody tr th:only-of-type {\n",
       "        vertical-align: middle;\n",
       "    }\n",
       "\n",
       "    .dataframe tbody tr th {\n",
       "        vertical-align: top;\n",
       "    }\n",
       "\n",
       "    .dataframe thead th {\n",
       "        text-align: right;\n",
       "    }\n",
       "</style>\n",
       "<table border=\"1\" class=\"dataframe\">\n",
       "  <thead>\n",
       "    <tr style=\"text-align: right;\">\n",
       "      <th></th>\n",
       "      <th>num_attempts</th>\n",
       "      <th>num_success</th>\n",
       "      <th>num_winners</th>\n",
       "      <th>num_losers</th>\n",
       "      <th>num_players</th>\n",
       "      <th>attempts_success_ratio</th>\n",
       "      <th>player_win_lose_ratio</th>\n",
       "      <th>win_rate</th>\n",
       "    </tr>\n",
       "  </thead>\n",
       "  <tbody>\n",
       "    <tr>\n",
       "      <th>count</th>\n",
       "      <td>15.000000</td>\n",
       "      <td>15.000000</td>\n",
       "      <td>15.000000</td>\n",
       "      <td>15.000000</td>\n",
       "      <td>15.000000</td>\n",
       "      <td>15.000000</td>\n",
       "      <td>15.000000</td>\n",
       "      <td>15.000000</td>\n",
       "    </tr>\n",
       "    <tr>\n",
       "      <th>mean</th>\n",
       "      <td>6223.666667</td>\n",
       "      <td>705.133333</td>\n",
       "      <td>650.533333</td>\n",
       "      <td>473.800000</td>\n",
       "      <td>1124.333333</td>\n",
       "      <td>8.198374</td>\n",
       "      <td>0.684326</td>\n",
       "      <td>0.262259</td>\n",
       "    </tr>\n",
       "    <tr>\n",
       "      <th>std</th>\n",
       "      <td>7739.538088</td>\n",
       "      <td>137.908804</td>\n",
       "      <td>132.248611</td>\n",
       "      <td>611.115631</td>\n",
       "      <td>716.175225</td>\n",
       "      <td>7.922235</td>\n",
       "      <td>0.227162</td>\n",
       "      <td>0.199402</td>\n",
       "    </tr>\n",
       "    <tr>\n",
       "      <th>min</th>\n",
       "      <td>1285.000000</td>\n",
       "      <td>603.000000</td>\n",
       "      <td>574.000000</td>\n",
       "      <td>37.000000</td>\n",
       "      <td>674.000000</td>\n",
       "      <td>1.616137</td>\n",
       "      <td>0.302985</td>\n",
       "      <td>0.038092</td>\n",
       "    </tr>\n",
       "    <tr>\n",
       "      <th>25%</th>\n",
       "      <td>1568.500000</td>\n",
       "      <td>637.500000</td>\n",
       "      <td>598.500000</td>\n",
       "      <td>58.500000</td>\n",
       "      <td>685.500000</td>\n",
       "      <td>2.358542</td>\n",
       "      <td>0.533891</td>\n",
       "      <td>0.093673</td>\n",
       "    </tr>\n",
       "    <tr>\n",
       "      <th>50%</th>\n",
       "      <td>3282.000000</td>\n",
       "      <td>666.000000</td>\n",
       "      <td>629.000000</td>\n",
       "      <td>308.000000</td>\n",
       "      <td>893.000000</td>\n",
       "      <td>5.319287</td>\n",
       "      <td>0.655095</td>\n",
       "      <td>0.187995</td>\n",
       "    </tr>\n",
       "    <tr>\n",
       "      <th>75%</th>\n",
       "      <td>6902.500000</td>\n",
       "      <td>695.500000</td>\n",
       "      <td>638.500000</td>\n",
       "      <td>555.000000</td>\n",
       "      <td>1182.000000</td>\n",
       "      <td>10.681746</td>\n",
       "      <td>0.915440</td>\n",
       "      <td>0.424032</td>\n",
       "    </tr>\n",
       "    <tr>\n",
       "      <th>max</th>\n",
       "      <td>30374.000000</td>\n",
       "      <td>1157.000000</td>\n",
       "      <td>1120.000000</td>\n",
       "      <td>2253.000000</td>\n",
       "      <td>3373.000000</td>\n",
       "      <td>26.252377</td>\n",
       "      <td>0.945428</td>\n",
       "      <td>0.618759</td>\n",
       "    </tr>\n",
       "  </tbody>\n",
       "</table>\n",
       "</div>"
      ],
      "text/plain": [
       "       num_attempts  num_success  num_winners   num_losers  num_players  \\\n",
       "count     15.000000    15.000000    15.000000    15.000000    15.000000   \n",
       "mean    6223.666667   705.133333   650.533333   473.800000  1124.333333   \n",
       "std     7739.538088   137.908804   132.248611   611.115631   716.175225   \n",
       "min     1285.000000   603.000000   574.000000    37.000000   674.000000   \n",
       "25%     1568.500000   637.500000   598.500000    58.500000   685.500000   \n",
       "50%     3282.000000   666.000000   629.000000   308.000000   893.000000   \n",
       "75%     6902.500000   695.500000   638.500000   555.000000  1182.000000   \n",
       "max    30374.000000  1157.000000  1120.000000  2253.000000  3373.000000   \n",
       "\n",
       "       attempts_success_ratio  player_win_lose_ratio   win_rate  \n",
       "count               15.000000              15.000000  15.000000  \n",
       "mean                 8.198374               0.684326   0.262259  \n",
       "std                  7.922235               0.227162   0.199402  \n",
       "min                  1.616137               0.302985   0.038092  \n",
       "25%                  2.358542               0.533891   0.093673  \n",
       "50%                  5.319287               0.655095   0.187995  \n",
       "75%                 10.681746               0.915440   0.424032  \n",
       "max                 26.252377               0.945428   0.618759  "
      ]
     },
     "execution_count": 73,
     "metadata": {},
     "output_type": "execute_result"
    }
   ],
   "source": [
    "level_df.describe()"
   ]
  },
  {
   "cell_type": "code",
   "execution_count": 76,
   "metadata": {},
   "outputs": [
    {
     "data": {
      "text/plain": [
       "<AxesSubplot:>"
      ]
     },
     "execution_count": 76,
     "metadata": {},
     "output_type": "execute_result"
    },
    {
     "data": {
      "image/png": "[encoded data removed]",
      "text/plain": [
       "<Figure size 432x288 with 2 Axes>"
      ]
     },
     "metadata": {
      "needs_background": "light"
     },
     "output_type": "display_data"
    }
   ],
   "source": [
    "sns.heatmap(level_df.corr(),cmap='RdBu',annot=True)\n"
   ]
  },
  {
   "cell_type": "markdown",
   "metadata": {},
   "source": [
    "#### As expected the attempts/success ratio, num_attempts are negatively correlated with player win/loss ratio. Generally the harder levels (low win/loss ratio) require more attempts to succeed. Number of successes is uncorrelated with these three variables.\n",
    "#### lvl 8 and lvl 15 are the hardest levels, and also the most played levels. \n",
    "#### number of players on a given levels is rather unequal with minimum of 674 and maximum of 3374 (for lvl 15)     "
   ]
  },
  {
   "cell_type": "code",
   "execution_count": 63,
   "metadata": {},
   "outputs": [],
   "source": [
    "from sklearn.linear_model import LinearRegression\n",
    "import statsmodels"
   ]
  },
  {
   "cell_type": "code",
   "execution_count": 64,
   "metadata": {},
   "outputs": [
    {
     "data": {
      "text/plain": [
       "<AxesSubplot:xlabel='player_win_lose_ratio', ylabel='num_players'>"
      ]
     },
     "execution_count": 64,
     "metadata": {},
     "output_type": "execute_result"
    },
    {
     "data": {
      "image/png": "[encoded data removed]",
      "text/plain": [
       "<Figure size 432x288 with 1 Axes>"
      ]
     },
     "metadata": {
      "needs_background": "light"
     },
     "output_type": "display_data"
    }
   ],
   "source": [
    "reg = LinearRegression()\n",
    "temp = level_df.sort_values(by='player_win_lose_ratio')\n",
    "y = temp['num_players'].values.reshape(-1,1)\n",
    "X = temp['player_win_lose_ratio'].values.reshape(-1,1)\n",
    "\n",
    "sns.regplot(data=level_df, x=1/level_df['player_win_lose_ratio'], y='num_players',order=1,robust=True)"
   ]
  },
  {
   "cell_type": "markdown",
   "metadata": {},
   "source": [
    "#### there seems to be a linear correlation between win/lose ratio and number of players. We see that the hardest levels (level 8 and 15) have the most number of players. \n",
    "#### looking at the correlation graph, lvl 15 appears to be an outlier with 3374 players. My explanation for this is that a player who has successed on a hard level is more likely to share his score to his friends, and as a result more players play this level. \n",
    "\n",
    "#### Whilst easier levels are important new players/ casual players, gradually increasing the difficulty provides the player with a sense of accomplishment and progression. As a result, they are more likely to share their results with their peers which leads to potential new playerbases and increased app downloads."
   ]
  },
  {
   "cell_type": "markdown",
   "metadata": {},
   "source": [
    "### Profile of players playing hard vs easy levels"
   ]
  },
  {
   "cell_type": "code",
   "execution_count": 77,
   "metadata": {},
   "outputs": [],
   "source": [
    "profile = df[['player_id','level','num_attempts']].pivot_table(index='player_id',columns='level',values='num_attempts',fill_value=False,aggfunc=(lambda x: np.sum(x)>0))"
   ]
  },
  {
   "cell_type": "code",
   "execution_count": 78,
   "metadata": {},
   "outputs": [
    {
     "data": {
      "text/html": [
       "<div>\n",
       "<style scoped>\n",
       "    .dataframe tbody tr th:only-of-type {\n",
       "        vertical-align: middle;\n",
       "    }\n",
       "\n",
       "    .dataframe tbody tr th {\n",
       "        vertical-align: top;\n",
       "    }\n",
       "\n",
       "    .dataframe thead th {\n",
       "        text-align: right;\n",
       "    }\n",
       "</style>\n",
       "<table border=\"1\" class=\"dataframe\">\n",
       "  <thead>\n",
       "    <tr style=\"text-align: right;\">\n",
       "      <th>level</th>\n",
       "      <th>1</th>\n",
       "      <th>2</th>\n",
       "      <th>3</th>\n",
       "      <th>4</th>\n",
       "      <th>5</th>\n",
       "      <th>6</th>\n",
       "      <th>7</th>\n",
       "      <th>8</th>\n",
       "      <th>9</th>\n",
       "      <th>10</th>\n",
       "      <th>11</th>\n",
       "      <th>12</th>\n",
       "      <th>13</th>\n",
       "      <th>14</th>\n",
       "      <th>15</th>\n",
       "    </tr>\n",
       "    <tr>\n",
       "      <th>player_id</th>\n",
       "      <th></th>\n",
       "      <th></th>\n",
       "      <th></th>\n",
       "      <th></th>\n",
       "      <th></th>\n",
       "      <th></th>\n",
       "      <th></th>\n",
       "      <th></th>\n",
       "      <th></th>\n",
       "      <th></th>\n",
       "      <th></th>\n",
       "      <th></th>\n",
       "      <th></th>\n",
       "      <th></th>\n",
       "      <th></th>\n",
       "    </tr>\n",
       "  </thead>\n",
       "  <tbody>\n",
       "    <tr>\n",
       "      <th>000c40d4d19eb434dac94c021352b6cd</th>\n",
       "      <td>False</td>\n",
       "      <td>False</td>\n",
       "      <td>False</td>\n",
       "      <td>False</td>\n",
       "      <td>False</td>\n",
       "      <td>True</td>\n",
       "      <td>True</td>\n",
       "      <td>False</td>\n",
       "      <td>False</td>\n",
       "      <td>False</td>\n",
       "      <td>False</td>\n",
       "      <td>False</td>\n",
       "      <td>False</td>\n",
       "      <td>False</td>\n",
       "      <td>False</td>\n",
       "    </tr>\n",
       "    <tr>\n",
       "      <th>001a1460e4a6d4a4861e4178277829b5</th>\n",
       "      <td>False</td>\n",
       "      <td>False</td>\n",
       "      <td>False</td>\n",
       "      <td>False</td>\n",
       "      <td>False</td>\n",
       "      <td>False</td>\n",
       "      <td>False</td>\n",
       "      <td>True</td>\n",
       "      <td>True</td>\n",
       "      <td>True</td>\n",
       "      <td>False</td>\n",
       "      <td>False</td>\n",
       "      <td>False</td>\n",
       "      <td>False</td>\n",
       "      <td>False</td>\n",
       "    </tr>\n",
       "    <tr>\n",
       "      <th>0021259083355711762f908bd62c6401</th>\n",
       "      <td>False</td>\n",
       "      <td>False</td>\n",
       "      <td>False</td>\n",
       "      <td>False</td>\n",
       "      <td>False</td>\n",
       "      <td>False</td>\n",
       "      <td>False</td>\n",
       "      <td>False</td>\n",
       "      <td>False</td>\n",
       "      <td>False</td>\n",
       "      <td>False</td>\n",
       "      <td>False</td>\n",
       "      <td>False</td>\n",
       "      <td>False</td>\n",
       "      <td>True</td>\n",
       "    </tr>\n",
       "    <tr>\n",
       "      <th>002c4c82a91b074af731edb962e88e3e</th>\n",
       "      <td>False</td>\n",
       "      <td>False</td>\n",
       "      <td>False</td>\n",
       "      <td>True</td>\n",
       "      <td>True</td>\n",
       "      <td>False</td>\n",
       "      <td>False</td>\n",
       "      <td>False</td>\n",
       "      <td>False</td>\n",
       "      <td>False</td>\n",
       "      <td>False</td>\n",
       "      <td>False</td>\n",
       "      <td>False</td>\n",
       "      <td>False</td>\n",
       "      <td>False</td>\n",
       "    </tr>\n",
       "    <tr>\n",
       "      <th>002fd5fb305ada06447379f249ee544a</th>\n",
       "      <td>False</td>\n",
       "      <td>False</td>\n",
       "      <td>False</td>\n",
       "      <td>False</td>\n",
       "      <td>False</td>\n",
       "      <td>False</td>\n",
       "      <td>False</td>\n",
       "      <td>False</td>\n",
       "      <td>False</td>\n",
       "      <td>False</td>\n",
       "      <td>False</td>\n",
       "      <td>False</td>\n",
       "      <td>False</td>\n",
       "      <td>False</td>\n",
       "      <td>True</td>\n",
       "    </tr>\n",
       "  </tbody>\n",
       "</table>\n",
       "</div>"
      ],
      "text/plain": [
       "level                                1      2      3      4      5      6   \\\n",
       "player_id                                                                    \n",
       "000c40d4d19eb434dac94c021352b6cd  False  False  False  False  False   True   \n",
       "001a1460e4a6d4a4861e4178277829b5  False  False  False  False  False  False   \n",
       "0021259083355711762f908bd62c6401  False  False  False  False  False  False   \n",
       "002c4c82a91b074af731edb962e88e3e  False  False  False   True   True  False   \n",
       "002fd5fb305ada06447379f249ee544a  False  False  False  False  False  False   \n",
       "\n",
       "level                                7      8      9      10     11     12  \\\n",
       "player_id                                                                    \n",
       "000c40d4d19eb434dac94c021352b6cd   True  False  False  False  False  False   \n",
       "001a1460e4a6d4a4861e4178277829b5  False   True   True   True  False  False   \n",
       "0021259083355711762f908bd62c6401  False  False  False  False  False  False   \n",
       "002c4c82a91b074af731edb962e88e3e  False  False  False  False  False  False   \n",
       "002fd5fb305ada06447379f249ee544a  False  False  False  False  False  False   \n",
       "\n",
       "level                                13     14     15  \n",
       "player_id                                              \n",
       "000c40d4d19eb434dac94c021352b6cd  False  False  False  \n",
       "001a1460e4a6d4a4861e4178277829b5  False  False  False  \n",
       "0021259083355711762f908bd62c6401  False  False   True  \n",
       "002c4c82a91b074af731edb962e88e3e  False  False  False  \n",
       "002fd5fb305ada06447379f249ee544a  False  False   True  "
      ]
     },
     "execution_count": 78,
     "metadata": {},
     "output_type": "execute_result"
    }
   ],
   "source": [
    "profile.head()"
   ]
  },
  {
   "cell_type": "code",
   "execution_count": 80,
   "metadata": {},
   "outputs": [
    {
     "data": {
      "text/plain": [
       "Text(0, 0.5, 'counts')"
      ]
     },
     "execution_count": 80,
     "metadata": {},
     "output_type": "execute_result"
    },
    {
     "data": {
      "image/png": "[encoded data removed]",
      "text/plain": [
       "<Figure size 432x288 with 1 Axes>"
      ]
     },
     "metadata": {
      "needs_background": "light"
     },
     "output_type": "display_data"
    }
   ],
   "source": [
    "plt.spy(profile.values.astype(float)[:10,:])\n",
    "plt.xlabel(\"level\")\n",
    "plt.ylabel(\"counts\")"
   ]
  },
  {
   "cell_type": "markdown",
   "metadata": {},
   "source": [
    "#### We can see that many players that played the higher levels did not play the lower levels. This could explain why there is a very low win rate for level 15 since most player who attempted this level did not practise on the easier level and thus, they are not well versed in the mechanics of the game."
   ]
  }
 ],
 "metadata": {
  "interpreter": {
   "hash": "febb7f70faabed7c92f41c63e60c01dcf0a00281f542dce00258d143d59f942f"
  },
  "kernelspec": {
   "display_name": "Python 3.9.9 64-bit (windows store)",
   "language": "python",
   "name": "python3"
  },
  "language_info": {
   "codemirror_mode": {
    "name": "ipython",
    "version": 3
   },
   "file_extension": ".py",
   "mimetype": "text/x-python",
   "name": "python",
   "nbconvert_exporter": "python",
   "pygments_lexer": "ipython3",
   "version": "3.9.9"
  },
  "orig_nbformat": 4
 },
 "nbformat": 4,
 "nbformat_minor": 2
}
